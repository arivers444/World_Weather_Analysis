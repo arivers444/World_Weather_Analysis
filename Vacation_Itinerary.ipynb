{
 "cells": [
  {
   "cell_type": "code",
   "execution_count": 1,
   "metadata": {},
   "outputs": [],
   "source": [
    "# Import the dependencies.\n",
    "import pandas as pd\n",
    "import gmaps\n",
    "import gmaps.datasets\n",
    "import requests\n",
    "import numpy as np\n",
    "\n",
    "# Import the API key.\n",
    "from config import g_key"
   ]
  },
  {
   "cell_type": "code",
   "execution_count": 2,
   "metadata": {},
   "outputs": [
    {
     "data": {
      "text/html": [
       "<div>\n",
       "<style scoped>\n",
       "    .dataframe tbody tr th:only-of-type {\n",
       "        vertical-align: middle;\n",
       "    }\n",
       "\n",
       "    .dataframe tbody tr th {\n",
       "        vertical-align: top;\n",
       "    }\n",
       "\n",
       "    .dataframe thead th {\n",
       "        text-align: right;\n",
       "    }\n",
       "</style>\n",
       "<table border=\"1\" class=\"dataframe\">\n",
       "  <thead>\n",
       "    <tr style=\"text-align: right;\">\n",
       "      <th></th>\n",
       "      <th>City_ID</th>\n",
       "      <th>City</th>\n",
       "      <th>Country</th>\n",
       "      <th>Max Temp</th>\n",
       "      <th>Current Description</th>\n",
       "      <th>Lat</th>\n",
       "      <th>Lng</th>\n",
       "      <th>Hotel Name</th>\n",
       "    </tr>\n",
       "  </thead>\n",
       "  <tbody>\n",
       "    <tr>\n",
       "      <th>0</th>\n",
       "      <td>14</td>\n",
       "      <td>Pangoa</td>\n",
       "      <td>PE</td>\n",
       "      <td>75.67</td>\n",
       "      <td>clear sky</td>\n",
       "      <td>-12.12</td>\n",
       "      <td>-73.00</td>\n",
       "      <td>NaN</td>\n",
       "    </tr>\n",
       "    <tr>\n",
       "      <th>1</th>\n",
       "      <td>16</td>\n",
       "      <td>Balotra</td>\n",
       "      <td>IN</td>\n",
       "      <td>94.35</td>\n",
       "      <td>overcast clouds</td>\n",
       "      <td>25.83</td>\n",
       "      <td>72.23</td>\n",
       "      <td>Hotel City Square</td>\n",
       "    </tr>\n",
       "    <tr>\n",
       "      <th>2</th>\n",
       "      <td>18</td>\n",
       "      <td>Samarai</td>\n",
       "      <td>PG</td>\n",
       "      <td>77.72</td>\n",
       "      <td>moderate rain</td>\n",
       "      <td>-10.62</td>\n",
       "      <td>150.67</td>\n",
       "      <td>Nuli Sapi</td>\n",
       "    </tr>\n",
       "    <tr>\n",
       "      <th>3</th>\n",
       "      <td>19</td>\n",
       "      <td>Belmonte</td>\n",
       "      <td>BR</td>\n",
       "      <td>78.80</td>\n",
       "      <td>few clouds</td>\n",
       "      <td>-15.86</td>\n",
       "      <td>-38.88</td>\n",
       "      <td>Pousada Monte Carmelo O Pão</td>\n",
       "    </tr>\n",
       "    <tr>\n",
       "      <th>4</th>\n",
       "      <td>25</td>\n",
       "      <td>Katsuura</td>\n",
       "      <td>JP</td>\n",
       "      <td>80.01</td>\n",
       "      <td>broken clouds</td>\n",
       "      <td>35.13</td>\n",
       "      <td>140.30</td>\n",
       "      <td>Katsuura Hotel Mikazuki</td>\n",
       "    </tr>\n",
       "  </tbody>\n",
       "</table>\n",
       "</div>"
      ],
      "text/plain": [
       "   City_ID      City Country  Max Temp Current Description    Lat     Lng  \\\n",
       "0       14    Pangoa      PE     75.67           clear sky -12.12  -73.00   \n",
       "1       16   Balotra      IN     94.35     overcast clouds  25.83   72.23   \n",
       "2       18   Samarai      PG     77.72       moderate rain -10.62  150.67   \n",
       "3       19  Belmonte      BR     78.80          few clouds -15.86  -38.88   \n",
       "4       25  Katsuura      JP     80.01       broken clouds  35.13  140.30   \n",
       "\n",
       "                    Hotel Name  \n",
       "0                          NaN  \n",
       "1            Hotel City Square  \n",
       "2                    Nuli Sapi  \n",
       "3  Pousada Monte Carmelo O Pão  \n",
       "4      Katsuura Hotel Mikazuki  "
      ]
     },
     "execution_count": 2,
     "metadata": {},
     "output_type": "execute_result"
    }
   ],
   "source": [
    "# Store the CSV you saved/created in part two into a DataFrame.\n",
    "city_data_df = pd.read_csv(\"weather_data/WeatherPy_vacation.csv\")\n",
    "city_data_df.head()"
   ]
  },
  {
   "cell_type": "code",
   "execution_count": 3,
   "metadata": {},
   "outputs": [],
   "source": [
    "# Configure gmaps to use your Google API key.\n",
    "gmaps.configure(api_key=g_key)"
   ]
  },
  {
   "cell_type": "code",
   "execution_count": 4,
   "metadata": {},
   "outputs": [
    {
     "data": {
      "text/html": [
       "<div>\n",
       "<style scoped>\n",
       "    .dataframe tbody tr th:only-of-type {\n",
       "        vertical-align: middle;\n",
       "    }\n",
       "\n",
       "    .dataframe tbody tr th {\n",
       "        vertical-align: top;\n",
       "    }\n",
       "\n",
       "    .dataframe thead th {\n",
       "        text-align: right;\n",
       "    }\n",
       "</style>\n",
       "<table border=\"1\" class=\"dataframe\">\n",
       "  <thead>\n",
       "    <tr style=\"text-align: right;\">\n",
       "      <th></th>\n",
       "      <th>City_ID</th>\n",
       "      <th>City</th>\n",
       "      <th>Country</th>\n",
       "      <th>Max Temp</th>\n",
       "      <th>Current Description</th>\n",
       "      <th>Lat</th>\n",
       "      <th>Lng</th>\n",
       "      <th>Hotel Name</th>\n",
       "    </tr>\n",
       "  </thead>\n",
       "  <tbody>\n",
       "    <tr>\n",
       "      <th>51</th>\n",
       "      <td>147</td>\n",
       "      <td>Fairview</td>\n",
       "      <td>US</td>\n",
       "      <td>84.0</td>\n",
       "      <td>light rain</td>\n",
       "      <td>40.81</td>\n",
       "      <td>-74.0</td>\n",
       "      <td>Homewood Suites by Hilton Edgewater-NYC Area</td>\n",
       "    </tr>\n",
       "  </tbody>\n",
       "</table>\n",
       "</div>"
      ],
      "text/plain": [
       "    City_ID      City Country  Max Temp Current Description    Lat   Lng  \\\n",
       "51      147  Fairview      US      84.0          light rain  40.81 -74.0   \n",
       "\n",
       "                                      Hotel Name  \n",
       "51  Homewood Suites by Hilton Edgewater-NYC Area  "
      ]
     },
     "execution_count": 4,
     "metadata": {},
     "output_type": "execute_result"
    }
   ],
   "source": [
    "# Use .loc to create separate DataFrams for each city on travel route.\n",
    "fairview_df = city_data_df.loc[(city_data_df['City'] == \"Fairview\")]\n",
    "\n",
    "fairview_df"
   ]
  },
  {
   "cell_type": "code",
   "execution_count": 5,
   "metadata": {},
   "outputs": [
    {
     "data": {
      "text/html": [
       "<div>\n",
       "<style scoped>\n",
       "    .dataframe tbody tr th:only-of-type {\n",
       "        vertical-align: middle;\n",
       "    }\n",
       "\n",
       "    .dataframe tbody tr th {\n",
       "        vertical-align: top;\n",
       "    }\n",
       "\n",
       "    .dataframe thead th {\n",
       "        text-align: right;\n",
       "    }\n",
       "</style>\n",
       "<table border=\"1\" class=\"dataframe\">\n",
       "  <thead>\n",
       "    <tr style=\"text-align: right;\">\n",
       "      <th></th>\n",
       "      <th>City_ID</th>\n",
       "      <th>City</th>\n",
       "      <th>Country</th>\n",
       "      <th>Max Temp</th>\n",
       "      <th>Current Description</th>\n",
       "      <th>Lat</th>\n",
       "      <th>Lng</th>\n",
       "      <th>Hotel Name</th>\n",
       "    </tr>\n",
       "  </thead>\n",
       "  <tbody>\n",
       "    <tr>\n",
       "      <th>60</th>\n",
       "      <td>174</td>\n",
       "      <td>Broome</td>\n",
       "      <td>US</td>\n",
       "      <td>77.0</td>\n",
       "      <td>broken clouds</td>\n",
       "      <td>42.25</td>\n",
       "      <td>-75.83</td>\n",
       "      <td>Chenango Valley State Park</td>\n",
       "    </tr>\n",
       "  </tbody>\n",
       "</table>\n",
       "</div>"
      ],
      "text/plain": [
       "    City_ID    City Country  Max Temp Current Description    Lat    Lng  \\\n",
       "60      174  Broome      US      77.0       broken clouds  42.25 -75.83   \n",
       "\n",
       "                    Hotel Name  \n",
       "60  Chenango Valley State Park  "
      ]
     },
     "execution_count": 5,
     "metadata": {},
     "output_type": "execute_result"
    }
   ],
   "source": [
    "# Use .loc to create separate DataFrams for each city on travel route.\n",
    "broome_df = city_data_df.loc[(city_data_df['City'] == \"Broome\")]\n",
    "\n",
    "broome_df"
   ]
  },
  {
   "cell_type": "code",
   "execution_count": 6,
   "metadata": {},
   "outputs": [
    {
     "data": {
      "text/html": [
       "<div>\n",
       "<style scoped>\n",
       "    .dataframe tbody tr th:only-of-type {\n",
       "        vertical-align: middle;\n",
       "    }\n",
       "\n",
       "    .dataframe tbody tr th {\n",
       "        vertical-align: top;\n",
       "    }\n",
       "\n",
       "    .dataframe thead th {\n",
       "        text-align: right;\n",
       "    }\n",
       "</style>\n",
       "<table border=\"1\" class=\"dataframe\">\n",
       "  <thead>\n",
       "    <tr style=\"text-align: right;\">\n",
       "      <th></th>\n",
       "      <th>City_ID</th>\n",
       "      <th>City</th>\n",
       "      <th>Country</th>\n",
       "      <th>Max Temp</th>\n",
       "      <th>Current Description</th>\n",
       "      <th>Lat</th>\n",
       "      <th>Lng</th>\n",
       "      <th>Hotel Name</th>\n",
       "    </tr>\n",
       "  </thead>\n",
       "  <tbody>\n",
       "    <tr>\n",
       "      <th>7</th>\n",
       "      <td>30</td>\n",
       "      <td>Albany</td>\n",
       "      <td>US</td>\n",
       "      <td>81.0</td>\n",
       "      <td>overcast clouds</td>\n",
       "      <td>42.6</td>\n",
       "      <td>-73.97</td>\n",
       "      <td>NaN</td>\n",
       "    </tr>\n",
       "  </tbody>\n",
       "</table>\n",
       "</div>"
      ],
      "text/plain": [
       "   City_ID    City Country  Max Temp Current Description   Lat    Lng  \\\n",
       "7       30  Albany      US      81.0     overcast clouds  42.6 -73.97   \n",
       "\n",
       "  Hotel Name  \n",
       "7        NaN  "
      ]
     },
     "execution_count": 6,
     "metadata": {},
     "output_type": "execute_result"
    }
   ],
   "source": [
    "# Use .loc to create separate DataFrams for each city on travel route.\n",
    "albany_df = city_data_df.loc[(city_data_df['City'] == \"Albany\")]\n",
    "\n",
    "albany_df"
   ]
  },
  {
   "cell_type": "code",
   "execution_count": 7,
   "metadata": {
    "scrolled": true
   },
   "outputs": [
    {
     "data": {
      "text/html": [
       "<div>\n",
       "<style scoped>\n",
       "    .dataframe tbody tr th:only-of-type {\n",
       "        vertical-align: middle;\n",
       "    }\n",
       "\n",
       "    .dataframe tbody tr th {\n",
       "        vertical-align: top;\n",
       "    }\n",
       "\n",
       "    .dataframe thead th {\n",
       "        text-align: right;\n",
       "    }\n",
       "</style>\n",
       "<table border=\"1\" class=\"dataframe\">\n",
       "  <thead>\n",
       "    <tr style=\"text-align: right;\">\n",
       "      <th></th>\n",
       "      <th>City_ID</th>\n",
       "      <th>City</th>\n",
       "      <th>Country</th>\n",
       "      <th>Max Temp</th>\n",
       "      <th>Current Description</th>\n",
       "      <th>Lat</th>\n",
       "      <th>Lng</th>\n",
       "      <th>Hotel Name</th>\n",
       "    </tr>\n",
       "  </thead>\n",
       "  <tbody>\n",
       "    <tr>\n",
       "      <th>172</th>\n",
       "      <td>408</td>\n",
       "      <td>Cohoes</td>\n",
       "      <td>US</td>\n",
       "      <td>82.0</td>\n",
       "      <td>broken clouds</td>\n",
       "      <td>42.77</td>\n",
       "      <td>-73.7</td>\n",
       "      <td>Hilton Garden Inn Troy</td>\n",
       "    </tr>\n",
       "  </tbody>\n",
       "</table>\n",
       "</div>"
      ],
      "text/plain": [
       "     City_ID    City Country  Max Temp Current Description    Lat   Lng  \\\n",
       "172      408  Cohoes      US      82.0       broken clouds  42.77 -73.7   \n",
       "\n",
       "                 Hotel Name  \n",
       "172  Hilton Garden Inn Troy  "
      ]
     },
     "execution_count": 7,
     "metadata": {},
     "output_type": "execute_result"
    }
   ],
   "source": [
    "# Use .loc to create separate DataFrams for each city on travel route.\n",
    "cohoes_df = city_data_df.loc[(city_data_df['City'] == \"Cohoes\")]\n",
    "\n",
    "cohoes_df"
   ]
  },
  {
   "cell_type": "code",
   "execution_count": 8,
   "metadata": {},
   "outputs": [
    {
     "data": {
      "text/plain": [
       "(42.77, -73.7)"
      ]
     },
     "execution_count": 8,
     "metadata": {},
     "output_type": "execute_result"
    }
   ],
   "source": [
    "fairview_lat = fairview_df.iloc[0,5]\n",
    "fairview_lng = fairview_df.iloc[0,6]\n",
    "fairview_lat_lng = (fairview_lat,fairview_lng)\n",
    "fairview_lat_lng\n",
    "\n",
    "broome_lat = broome_df.iloc[0,5]\n",
    "broome_lng = broome_df.iloc[0,6]\n",
    "broome_lat_lng = (broome_lat,broome_lng)\n",
    "broome_lat_lng\n",
    "\n",
    "albany_lat = albany_df.iloc[0,5]\n",
    "albany_lng = albany_df.iloc[0,6]\n",
    "albany_lat_lng = (albany_lat,albany_lng)\n",
    "albany_lat_lng\n",
    "\n",
    "cohoes_lat = cohoes_df.iloc[0,5]\n",
    "cohoes_lng = cohoes_df.iloc[0,6]\n",
    "cohoes_lat_lng = (cohoes_lat,cohoes_lng)\n",
    "cohoes_lat_lng"
   ]
  },
  {
   "cell_type": "code",
   "execution_count": 9,
   "metadata": {},
   "outputs": [],
   "source": [
    "# Get the latitude-longitude pairs for each city DataFrame as tuples\n",
    "#pizarro_lat_lng = pizarro_df[['Lat','Lng']].to_numpy()\n",
    "#pizarro_lat_lng = tuple(pizarro_lat_lng)\n",
    "#print(pizarro_lat_lng)\n",
    "\n",
    "#mapiripan_lat_lng = mapiripan_df[['Lat','Lng']].to_numpy()\n",
    "#mapiripan_lat_lng = tuple(mapiripan_lat_lng)\n",
    "#print(mapiripan_lat_lng)\n",
    "\n",
    "#inirida_lat_lng = inirida_df[['Lat','Lng']].to_numpy()\n",
    "#inirida_lat_lng = tuple(inirida_lat_lng)\n",
    "#print(inirida_lat_lng)\n",
    "\n",
    "#san_cristobal_lat_lng = san_cristobal_df[['Lat','Lng']].to_numpy()\n",
    "#san_cristobal_lat_lng = tuple(san_cristobal_lat_lng)\n",
    "#print(san_cristobal_lat_lng)"
   ]
  },
  {
   "cell_type": "code",
   "execution_count": 10,
   "metadata": {
    "scrolled": false
   },
   "outputs": [
    {
     "data": {
      "application/vnd.jupyter.widget-view+json": {
       "model_id": "b9b09738f64c4063bb34065f5866b4d9",
       "version_major": 2,
       "version_minor": 0
      },
      "text/plain": [
       "Figure(layout=FigureLayout(height='420px'))"
      ]
     },
     "metadata": {},
     "output_type": "display_data"
    }
   ],
   "source": [
    "# Create map.\n",
    "fig = gmaps.figure()\n",
    "\n",
    "fairview2broome = gmaps.directions_layer(fairview_lat_lng, broome_lat_lng, travel_mode='DRIVING')\n",
    "broome2albany = gmaps.directions_layer(broome_lat_lng, albany_lat_lng, travel_mode='DRIVING')\n",
    "albany2cohoes = gmaps.directions_layer(albany_lat_lng, cohoes_lat_lng, travel_mode='DRIVING')\n",
    "cohoes2fairview = gmaps.directions_layer(cohoes_lat_lng, fairview_lat_lng, travel_mode='DRIVING')\n",
    "\n",
    "fig.add_layer(fairview2broome)\n",
    "fig.add_layer(broome2albany)\n",
    "fig.add_layer(albany2cohoes)\n",
    "fig.add_layer(cohoes2fairview)\n",
    "\n",
    "fig"
   ]
  },
  {
   "cell_type": "code",
   "execution_count": 11,
   "metadata": {},
   "outputs": [
    {
     "data": {
      "text/html": [
       "<div>\n",
       "<style scoped>\n",
       "    .dataframe tbody tr th:only-of-type {\n",
       "        vertical-align: middle;\n",
       "    }\n",
       "\n",
       "    .dataframe tbody tr th {\n",
       "        vertical-align: top;\n",
       "    }\n",
       "\n",
       "    .dataframe thead th {\n",
       "        text-align: right;\n",
       "    }\n",
       "</style>\n",
       "<table border=\"1\" class=\"dataframe\">\n",
       "  <thead>\n",
       "    <tr style=\"text-align: right;\">\n",
       "      <th></th>\n",
       "      <th>City_ID</th>\n",
       "      <th>City</th>\n",
       "      <th>Country</th>\n",
       "      <th>Max Temp</th>\n",
       "      <th>Current Description</th>\n",
       "      <th>Lat</th>\n",
       "      <th>Lng</th>\n",
       "      <th>Hotel Name</th>\n",
       "    </tr>\n",
       "  </thead>\n",
       "  <tbody>\n",
       "    <tr>\n",
       "      <th>51</th>\n",
       "      <td>147</td>\n",
       "      <td>Fairview</td>\n",
       "      <td>US</td>\n",
       "      <td>84.0</td>\n",
       "      <td>light rain</td>\n",
       "      <td>40.81</td>\n",
       "      <td>-74.00</td>\n",
       "      <td>Homewood Suites by Hilton Edgewater-NYC Area</td>\n",
       "    </tr>\n",
       "    <tr>\n",
       "      <th>60</th>\n",
       "      <td>174</td>\n",
       "      <td>Broome</td>\n",
       "      <td>US</td>\n",
       "      <td>77.0</td>\n",
       "      <td>broken clouds</td>\n",
       "      <td>42.25</td>\n",
       "      <td>-75.83</td>\n",
       "      <td>Chenango Valley State Park</td>\n",
       "    </tr>\n",
       "    <tr>\n",
       "      <th>7</th>\n",
       "      <td>30</td>\n",
       "      <td>Albany</td>\n",
       "      <td>US</td>\n",
       "      <td>81.0</td>\n",
       "      <td>overcast clouds</td>\n",
       "      <td>42.60</td>\n",
       "      <td>-73.97</td>\n",
       "      <td>NaN</td>\n",
       "    </tr>\n",
       "    <tr>\n",
       "      <th>172</th>\n",
       "      <td>408</td>\n",
       "      <td>Cohoes</td>\n",
       "      <td>US</td>\n",
       "      <td>82.0</td>\n",
       "      <td>broken clouds</td>\n",
       "      <td>42.77</td>\n",
       "      <td>-73.70</td>\n",
       "      <td>Hilton Garden Inn Troy</td>\n",
       "    </tr>\n",
       "  </tbody>\n",
       "</table>\n",
       "</div>"
      ],
      "text/plain": [
       "     City_ID      City Country  Max Temp Current Description    Lat    Lng  \\\n",
       "51       147  Fairview      US      84.0          light rain  40.81 -74.00   \n",
       "60       174    Broome      US      77.0       broken clouds  42.25 -75.83   \n",
       "7         30    Albany      US      81.0     overcast clouds  42.60 -73.97   \n",
       "172      408    Cohoes      US      82.0       broken clouds  42.77 -73.70   \n",
       "\n",
       "                                       Hotel Name  \n",
       "51   Homewood Suites by Hilton Edgewater-NYC Area  \n",
       "60                     Chenango Valley State Park  \n",
       "7                                             NaN  \n",
       "172                        Hilton Garden Inn Troy  "
      ]
     },
     "execution_count": 11,
     "metadata": {},
     "output_type": "execute_result"
    }
   ],
   "source": [
    "# Concatinate 4 DataFrames\n",
    "four_cities_data_df = pd.concat([fairview_df, broome_df, albany_df, cohoes_df])\n",
    "four_cities_data_df"
   ]
  },
  {
   "cell_type": "code",
   "execution_count": 12,
   "metadata": {},
   "outputs": [],
   "source": [
    "# Add info box template information.\n",
    "info_box_template = \"\"\"\n",
    "<dl>\n",
    "<dt>Hotel Name</dt><dd>{Hotel Name}</dd>\n",
    "<dt>City</dt><dd>{City}</dd>\n",
    "<dt>Country</dt><dd>{Country}</dd>\n",
    "<dt>Current Weather</dt><dd>{Current Description} and {Max Temp} °F</dd>\n",
    "</dl>\n",
    "\"\"\"\n",
    "\n",
    "# Store the DataFrame Row.\n",
    "hotel_info = [info_box_template.format(**row) for index, row in four_cities_data_df.iterrows()]"
   ]
  },
  {
   "cell_type": "code",
   "execution_count": 13,
   "metadata": {},
   "outputs": [
    {
     "data": {
      "application/vnd.jupyter.widget-view+json": {
       "model_id": "4f9f1af929dd45bc826c95c437aac6ab",
       "version_major": 2,
       "version_minor": 0
      },
      "text/plain": [
       "Figure(layout=FigureLayout(height='420px'))"
      ]
     },
     "metadata": {},
     "output_type": "display_data"
    }
   ],
   "source": [
    "# Add a marker layer for the vacation spots.\n",
    "locations = four_cities_data_df[[\"Lat\", \"Lng\"]]\n",
    "\n",
    "fig = gmaps.figure()\n",
    "\n",
    "marker_layer = gmaps.marker_layer(locations, info_box_content=hotel_info)\n",
    "\n",
    "fig.add_layer(marker_layer)\n",
    "fig"
   ]
  },
  {
   "cell_type": "code",
   "execution_count": null,
   "metadata": {},
   "outputs": [],
   "source": []
  }
 ],
 "metadata": {
  "kernelspec": {
   "display_name": "Python 3",
   "language": "python",
   "name": "python3"
  },
  "language_info": {
   "codemirror_mode": {
    "name": "ipython",
    "version": 3
   },
   "file_extension": ".py",
   "mimetype": "text/x-python",
   "name": "python",
   "nbconvert_exporter": "python",
   "pygments_lexer": "ipython3",
   "version": "3.7.7"
  }
 },
 "nbformat": 4,
 "nbformat_minor": 4
}
