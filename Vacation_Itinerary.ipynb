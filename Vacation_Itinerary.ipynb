{
 "cells": [
  {
   "cell_type": "code",
   "execution_count": 1,
   "metadata": {},
   "outputs": [],
   "source": [
    "# Import the dependencies.\n",
    "import pandas as pd\n",
    "import gmaps\n",
    "import gmaps.datasets\n",
    "import requests\n",
    "import numpy as np\n",
    "\n",
    "# Import the API key.\n",
    "from config import g_key"
   ]
  },
  {
   "cell_type": "code",
   "execution_count": 2,
   "metadata": {},
   "outputs": [
    {
     "data": {
      "text/html": [
       "<div>\n",
       "<style scoped>\n",
       "    .dataframe tbody tr th:only-of-type {\n",
       "        vertical-align: middle;\n",
       "    }\n",
       "\n",
       "    .dataframe tbody tr th {\n",
       "        vertical-align: top;\n",
       "    }\n",
       "\n",
       "    .dataframe thead th {\n",
       "        text-align: right;\n",
       "    }\n",
       "</style>\n",
       "<table border=\"1\" class=\"dataframe\">\n",
       "  <thead>\n",
       "    <tr style=\"text-align: right;\">\n",
       "      <th></th>\n",
       "      <th>City_ID</th>\n",
       "      <th>City</th>\n",
       "      <th>Country</th>\n",
       "      <th>Max Temp</th>\n",
       "      <th>Current Description</th>\n",
       "      <th>Lat</th>\n",
       "      <th>Lng</th>\n",
       "      <th>Hotel Name</th>\n",
       "    </tr>\n",
       "  </thead>\n",
       "  <tbody>\n",
       "    <tr>\n",
       "      <th>0</th>\n",
       "      <td>1</td>\n",
       "      <td>Port Maria</td>\n",
       "      <td>JM</td>\n",
       "      <td>88.00</td>\n",
       "      <td>clear sky</td>\n",
       "      <td>18.37</td>\n",
       "      <td>-76.89</td>\n",
       "      <td>Galina Breeze Hotel</td>\n",
       "    </tr>\n",
       "    <tr>\n",
       "      <th>1</th>\n",
       "      <td>2</td>\n",
       "      <td>Georgetown</td>\n",
       "      <td>MY</td>\n",
       "      <td>82.40</td>\n",
       "      <td>few clouds</td>\n",
       "      <td>5.41</td>\n",
       "      <td>100.34</td>\n",
       "      <td>Cititel Penang</td>\n",
       "    </tr>\n",
       "    <tr>\n",
       "      <th>2</th>\n",
       "      <td>9</td>\n",
       "      <td>Kavieng</td>\n",
       "      <td>PG</td>\n",
       "      <td>82.08</td>\n",
       "      <td>overcast clouds</td>\n",
       "      <td>-2.57</td>\n",
       "      <td>150.80</td>\n",
       "      <td>Nusa Island Retreat</td>\n",
       "    </tr>\n",
       "    <tr>\n",
       "      <th>3</th>\n",
       "      <td>12</td>\n",
       "      <td>Tiznit</td>\n",
       "      <td>MA</td>\n",
       "      <td>87.06</td>\n",
       "      <td>clear sky</td>\n",
       "      <td>29.58</td>\n",
       "      <td>-9.50</td>\n",
       "      <td>NaN</td>\n",
       "    </tr>\n",
       "    <tr>\n",
       "      <th>4</th>\n",
       "      <td>19</td>\n",
       "      <td>Kahului</td>\n",
       "      <td>US</td>\n",
       "      <td>78.80</td>\n",
       "      <td>scattered clouds</td>\n",
       "      <td>20.89</td>\n",
       "      <td>-156.47</td>\n",
       "      <td>Maui Seaside Hotel</td>\n",
       "    </tr>\n",
       "  </tbody>\n",
       "</table>\n",
       "</div>"
      ],
      "text/plain": [
       "   City_ID        City Country  Max Temp Current Description    Lat     Lng  \\\n",
       "0        1  Port Maria      JM     88.00           clear sky  18.37  -76.89   \n",
       "1        2  Georgetown      MY     82.40          few clouds   5.41  100.34   \n",
       "2        9     Kavieng      PG     82.08     overcast clouds  -2.57  150.80   \n",
       "3       12      Tiznit      MA     87.06           clear sky  29.58   -9.50   \n",
       "4       19     Kahului      US     78.80    scattered clouds  20.89 -156.47   \n",
       "\n",
       "            Hotel Name  \n",
       "0  Galina Breeze Hotel  \n",
       "1       Cititel Penang  \n",
       "2  Nusa Island Retreat  \n",
       "3                  NaN  \n",
       "4   Maui Seaside Hotel  "
      ]
     },
     "execution_count": 2,
     "metadata": {},
     "output_type": "execute_result"
    }
   ],
   "source": [
    "# Store the CSV you saved/created in part two into a DataFrame.\n",
    "vacation_df = pd.read_csv(\"weather_data/WeatherPy_vacation.csv\")\n",
    "vacation_df.head()"
   ]
  },
  {
   "cell_type": "code",
   "execution_count": 3,
   "metadata": {},
   "outputs": [],
   "source": [
    "# Configure gmaps to use your Google API key.\n",
    "gmaps.configure(api_key=g_key)"
   ]
  },
  {
   "cell_type": "code",
   "execution_count": 4,
   "metadata": {},
   "outputs": [],
   "source": [
    "# Using the template to information to the markers for the cities.\n",
    "info_box_template = \"\"\"\n",
    "<dl>\n",
    "<dt>Hotel Name</dt><dd>{Hotel Name}</dd>\n",
    "<dt>City</dt><dd>{City}</dd>\n",
    "<dt>Country</dt><dd>{Country}</dd>\n",
    "<dt>Current Weather</dt><dd>{Current Description} and {Max Temp} °F</dd>\n",
    "</dl>\n",
    "\"\"\"\n",
    "# Store the DataFrame Row\n",
    "hotel_info = [info_box_template.format(**row) for index, row in vacation_df.iterrows()]\n",
    "locations = vacation_df[[\"Lat\", \"Lng\"]]"
   ]
  },
  {
   "cell_type": "code",
   "execution_count": 5,
   "metadata": {},
   "outputs": [
    {
     "data": {
      "application/vnd.jupyter.widget-view+json": {
       "model_id": "c0f0250b0b554e408d4b373dc0008a48",
       "version_major": 2,
       "version_minor": 0
      },
      "text/plain": [
       "Figure(layout=FigureLayout(height='420px'))"
      ]
     },
     "metadata": {},
     "output_type": "display_data"
    }
   ],
   "source": [
    "# Add marker layer ontop of heat map\n",
    "marker_layer = gmaps.marker_layer(locations, info_box_content=hotel_info)\n",
    "fig = gmaps.figure()\n",
    "fig.add_layer(marker_layer)\n",
    "\n",
    "# Display figure\n",
    "fig"
   ]
  },
  {
   "cell_type": "code",
   "execution_count": 6,
   "metadata": {},
   "outputs": [],
   "source": [
    "# Filter the 'vaction_df' for the four cities.\n",
    "vacation_start = vacation_df.loc[vacation_df[\"City\"] == \"Boston\"]\n",
    "vacation_end = vacation_df.loc[vacation_df[\"City\"] == \"Freeport\"]\n",
    "vacation_stop1 = vacation_df.loc[vacation_df[\"City\"] == \"Palmer\"]\n",
    "vacation_stop2 = vacation_df.loc[vacation_df[\"City\"] == \"Westport\"]"
   ]
  },
  {
   "cell_type": "code",
   "execution_count": 7,
   "metadata": {},
   "outputs": [],
   "source": [
    "# Get latitude-longitude pairs for each city DataFrame\n",
    "start = vacation_start[\"Lat\"].values[0], vacation_start[\"Lng\"].values[0]\n",
    "end = vacation_end[\"Lat\"].values[0], vacation_end[\"Lng\"].values[0]\n",
    "stop1 = vacation_stop1[\"Lat\"].values[0], vacation_stop1[\"Lng\"].values[0]\n",
    "stop2 = vacation_stop2[\"Lat\"].values[0], vacation_stop2[\"Lng\"].values[0]"
   ]
  },
  {
   "cell_type": "code",
   "execution_count": 8,
   "metadata": {},
   "outputs": [
    {
     "data": {
      "application/vnd.jupyter.widget-view+json": {
       "model_id": "65e1066c7fe14a7eb1ce196f67351de5",
       "version_major": 2,
       "version_minor": 0
      },
      "text/plain": [
       "Figure(layout=FigureLayout(height='420px'))"
      ]
     },
     "metadata": {},
     "output_type": "display_data"
    }
   ],
   "source": [
    "fig = gmaps.figure()\n",
    "vacation_itinerary = gmaps.directions_layer(\n",
    "        start, end, waypoints=[stop1,stop2],\n",
    "        travel_mode='DRIVING')\n",
    "\n",
    "fig.add_layer(vacation_itinerary)\n",
    "fig"
   ]
  },
  {
   "cell_type": "code",
   "execution_count": 9,
   "metadata": {},
   "outputs": [
    {
     "data": {
      "text/html": [
       "<div>\n",
       "<style scoped>\n",
       "    .dataframe tbody tr th:only-of-type {\n",
       "        vertical-align: middle;\n",
       "    }\n",
       "\n",
       "    .dataframe tbody tr th {\n",
       "        vertical-align: top;\n",
       "    }\n",
       "\n",
       "    .dataframe thead th {\n",
       "        text-align: right;\n",
       "    }\n",
       "</style>\n",
       "<table border=\"1\" class=\"dataframe\">\n",
       "  <thead>\n",
       "    <tr style=\"text-align: right;\">\n",
       "      <th></th>\n",
       "      <th>City_ID</th>\n",
       "      <th>City</th>\n",
       "      <th>Country</th>\n",
       "      <th>Max Temp</th>\n",
       "      <th>Current Description</th>\n",
       "      <th>Lat</th>\n",
       "      <th>Lng</th>\n",
       "      <th>Hotel Name</th>\n",
       "    </tr>\n",
       "  </thead>\n",
       "  <tbody>\n",
       "    <tr>\n",
       "      <th>51</th>\n",
       "      <td>195</td>\n",
       "      <td>Boston</td>\n",
       "      <td>US</td>\n",
       "      <td>82.00</td>\n",
       "      <td>broken clouds</td>\n",
       "      <td>42.36</td>\n",
       "      <td>-71.06</td>\n",
       "      <td>XV Beacon Hotel</td>\n",
       "    </tr>\n",
       "    <tr>\n",
       "      <th>157</th>\n",
       "      <td>469</td>\n",
       "      <td>Freeport</td>\n",
       "      <td>US</td>\n",
       "      <td>87.01</td>\n",
       "      <td>clear sky</td>\n",
       "      <td>40.66</td>\n",
       "      <td>-73.58</td>\n",
       "      <td>The Freeport Inn and Marinad</td>\n",
       "    </tr>\n",
       "    <tr>\n",
       "      <th>122</th>\n",
       "      <td>382</td>\n",
       "      <td>Palmer</td>\n",
       "      <td>US</td>\n",
       "      <td>75.20</td>\n",
       "      <td>broken clouds</td>\n",
       "      <td>42.16</td>\n",
       "      <td>-72.33</td>\n",
       "      <td>Wedgewood Motel</td>\n",
       "    </tr>\n",
       "    <tr>\n",
       "      <th>141</th>\n",
       "      <td>428</td>\n",
       "      <td>Westport</td>\n",
       "      <td>US</td>\n",
       "      <td>84.20</td>\n",
       "      <td>scattered clouds</td>\n",
       "      <td>41.14</td>\n",
       "      <td>-73.36</td>\n",
       "      <td>The Westport Inn</td>\n",
       "    </tr>\n",
       "  </tbody>\n",
       "</table>\n",
       "</div>"
      ],
      "text/plain": [
       "     City_ID      City Country  Max Temp Current Description    Lat    Lng  \\\n",
       "51       195    Boston      US     82.00       broken clouds  42.36 -71.06   \n",
       "157      469  Freeport      US     87.01           clear sky  40.66 -73.58   \n",
       "122      382    Palmer      US     75.20       broken clouds  42.16 -72.33   \n",
       "141      428  Westport      US     84.20    scattered clouds  41.14 -73.36   \n",
       "\n",
       "                       Hotel Name  \n",
       "51                XV Beacon Hotel  \n",
       "157  The Freeport Inn and Marinad  \n",
       "122               Wedgewood Motel  \n",
       "141              The Westport Inn  "
      ]
     },
     "execution_count": 9,
     "metadata": {},
     "output_type": "execute_result"
    }
   ],
   "source": [
    "# Concatinate 4 DataFrames\n",
    "itinerary_df = pd.concat([vacation_start, vacation_end, vacation_stop1, vacation_stop2])\n",
    "itinerary_df"
   ]
  },
  {
   "cell_type": "code",
   "execution_count": 10,
   "metadata": {},
   "outputs": [
    {
     "data": {
      "text/html": [
       "<div>\n",
       "<style scoped>\n",
       "    .dataframe tbody tr th:only-of-type {\n",
       "        vertical-align: middle;\n",
       "    }\n",
       "\n",
       "    .dataframe tbody tr th {\n",
       "        vertical-align: top;\n",
       "    }\n",
       "\n",
       "    .dataframe thead th {\n",
       "        text-align: right;\n",
       "    }\n",
       "</style>\n",
       "<table border=\"1\" class=\"dataframe\">\n",
       "  <thead>\n",
       "    <tr style=\"text-align: right;\">\n",
       "      <th></th>\n",
       "      <th>City_ID</th>\n",
       "      <th>City</th>\n",
       "      <th>Country</th>\n",
       "      <th>Max Temp</th>\n",
       "      <th>Current Description</th>\n",
       "      <th>Lat</th>\n",
       "      <th>Lng</th>\n",
       "      <th>Hotel Name</th>\n",
       "    </tr>\n",
       "  </thead>\n",
       "  <tbody>\n",
       "    <tr>\n",
       "      <th>0</th>\n",
       "      <td>195</td>\n",
       "      <td>Boston</td>\n",
       "      <td>US</td>\n",
       "      <td>82.00</td>\n",
       "      <td>broken clouds</td>\n",
       "      <td>42.36</td>\n",
       "      <td>-71.06</td>\n",
       "      <td>XV Beacon Hotel</td>\n",
       "    </tr>\n",
       "    <tr>\n",
       "      <th>1</th>\n",
       "      <td>469</td>\n",
       "      <td>Freeport</td>\n",
       "      <td>US</td>\n",
       "      <td>87.01</td>\n",
       "      <td>clear sky</td>\n",
       "      <td>40.66</td>\n",
       "      <td>-73.58</td>\n",
       "      <td>The Freeport Inn and Marinad</td>\n",
       "    </tr>\n",
       "    <tr>\n",
       "      <th>2</th>\n",
       "      <td>382</td>\n",
       "      <td>Palmer</td>\n",
       "      <td>US</td>\n",
       "      <td>75.20</td>\n",
       "      <td>broken clouds</td>\n",
       "      <td>42.16</td>\n",
       "      <td>-72.33</td>\n",
       "      <td>Wedgewood Motel</td>\n",
       "    </tr>\n",
       "    <tr>\n",
       "      <th>3</th>\n",
       "      <td>428</td>\n",
       "      <td>Westport</td>\n",
       "      <td>US</td>\n",
       "      <td>84.20</td>\n",
       "      <td>scattered clouds</td>\n",
       "      <td>41.14</td>\n",
       "      <td>-73.36</td>\n",
       "      <td>The Westport Inn</td>\n",
       "    </tr>\n",
       "  </tbody>\n",
       "</table>\n",
       "</div>"
      ],
      "text/plain": [
       "   City_ID      City Country  Max Temp Current Description    Lat    Lng  \\\n",
       "0      195    Boston      US     82.00       broken clouds  42.36 -71.06   \n",
       "1      469  Freeport      US     87.01           clear sky  40.66 -73.58   \n",
       "2      382    Palmer      US     75.20       broken clouds  42.16 -72.33   \n",
       "3      428  Westport      US     84.20    scattered clouds  41.14 -73.36   \n",
       "\n",
       "                     Hotel Name  \n",
       "0               XV Beacon Hotel  \n",
       "1  The Freeport Inn and Marinad  \n",
       "2               Wedgewood Motel  \n",
       "3              The Westport Inn  "
      ]
     },
     "execution_count": 10,
     "metadata": {},
     "output_type": "execute_result"
    }
   ],
   "source": [
    "itinerary_df.reset_index(drop=True)"
   ]
  },
  {
   "cell_type": "code",
   "execution_count": 11,
   "metadata": {},
   "outputs": [],
   "source": [
    "# Add info box template information.\n",
    "info_box_template = \"\"\"\n",
    "<dl>\n",
    "<dt>Hotel Name</dt><dd>{Hotel Name}</dd>\n",
    "<dt>City</dt><dd>{City}</dd>\n",
    "<dt>Country</dt><dd>{Country}</dd>\n",
    "<dt>Current Weather</dt><dd>{Current Description} and {Max Temp} °F</dd>\n",
    "</dl>\n",
    "\"\"\"\n",
    "\n",
    "# Store the DataFrame Row.\n",
    "hotel_info = [info_box_template.format(**row) for index, row in itinerary_df.iterrows()]"
   ]
  },
  {
   "cell_type": "code",
   "execution_count": 12,
   "metadata": {},
   "outputs": [
    {
     "data": {
      "application/vnd.jupyter.widget-view+json": {
       "model_id": "d725e54aa058457482e5fa07fd15f794",
       "version_major": 2,
       "version_minor": 0
      },
      "text/plain": [
       "Figure(layout=FigureLayout(height='420px'))"
      ]
     },
     "metadata": {},
     "output_type": "display_data"
    }
   ],
   "source": [
    "# Add a marker layer for the vacation spots.\n",
    "locations = itinerary_df[[\"Lat\", \"Lng\"]]\n",
    "\n",
    "fig = gmaps.figure()\n",
    "\n",
    "marker_layer = gmaps.marker_layer(locations, info_box_content=hotel_info)\n",
    "\n",
    "fig.add_layer(marker_layer)\n",
    "fig"
   ]
  },
  {
   "cell_type": "code",
   "execution_count": null,
   "metadata": {},
   "outputs": [],
   "source": []
  }
 ],
 "metadata": {
  "kernelspec": {
   "display_name": "Python 3",
   "language": "python",
   "name": "python3"
  },
  "language_info": {
   "codemirror_mode": {
    "name": "ipython",
    "version": 3
   },
   "file_extension": ".py",
   "mimetype": "text/x-python",
   "name": "python",
   "nbconvert_exporter": "python",
   "pygments_lexer": "ipython3",
   "version": "3.7.7"
  }
 },
 "nbformat": 4,
 "nbformat_minor": 4
}
